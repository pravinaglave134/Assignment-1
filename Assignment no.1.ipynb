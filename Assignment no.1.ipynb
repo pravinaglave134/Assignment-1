{
 "cells": [
  {
   "cell_type": "markdown",
   "metadata": {},
   "source": [
    "Q.1\n",
    "\n",
    "Ans:- \n",
    "      \n",
    "      *     =  Mathematical operator\n",
    "     \n",
    "     'hello'=  string\n",
    "     \n",
    "     -87.8  =  float\n",
    "      \n",
    "       -    =  Mathematical operator\n",
    "      \n",
    "       /    =  Mathematical operator\n",
    "     \n",
    "       +    =  Mathematical operator\n",
    "       \n",
    "       6    =  integer\n",
    "       \n"
   ]
  },
  {
   "cell_type": "markdown",
   "metadata": {},
   "source": [
    "Q.2\n",
    "\n",
    "Ans:-  A Variable is a store of information,and a string is a type of information you would store in a Variable.A String is usually words,enclosed with \" \"  Eg. String x = \"Welcome to ineuron\" where x is the variable and we declared it as a string by using single '=' to assign the text to it.\n"
   ]
  },
  {
   "cell_type": "markdown",
   "metadata": {},
   "source": [
    "Q.3\n",
    "\n",
    "i) string : \n",
    "A string value is a collection of one or more characters put in single ,double or triple quotes.\n",
    "\n",
    "ii) list :\n",
    "A list object is an ordered collection of one or more data items,not necessarily of the same type,put in square brackets.\n",
    "\n",
    "iii) Tuple :\n",
    "A tuple object is an ordered collection of one or more data items, not necessarily of the same type ,put in parentheses.\n"
   ]
  },
  {
   "cell_type": "markdown",
   "metadata": {},
   "source": [
    "Q.4\n",
    "\n",
    "An expression is a combination of values,variables,operators,and calls to functions.Expressions need to be evaluated.If you ask Python to print an expression,the interpreter evaluates the expression and displays the result."
   ]
  },
  {
   "cell_type": "markdown",
   "metadata": {},
   "source": [
    "Q.5\n",
    "\n",
    "An expression can be defined as any element in our program that evaluates to some value. An expression evaluates to a value. A statement does something. Statements represent an action or command e.g. print statements,assignment statements."
   ]
  },
  {
   "cell_type": "code",
   "execution_count": 1,
   "metadata": {},
   "outputs": [
    {
     "data": {
      "text/plain": [
       "23"
      ]
     },
     "execution_count": 1,
     "metadata": {},
     "output_type": "execute_result"
    }
   ],
   "source": [
    "# Q.6\n",
    "bacon = 22\n",
    "bacon + 1\n",
    "\n"
   ]
  },
  {
   "cell_type": "code",
   "execution_count": 2,
   "metadata": {},
   "outputs": [
    {
     "data": {
      "text/plain": [
       "'spamspamspam'"
      ]
     },
     "execution_count": 2,
     "metadata": {},
     "output_type": "execute_result"
    }
   ],
   "source": [
    "# Q.7\n",
    "# i)\n",
    "'spam' + 'spamspam'"
   ]
  },
  {
   "cell_type": "code",
   "execution_count": 3,
   "metadata": {},
   "outputs": [
    {
     "data": {
      "text/plain": [
       "'spamspamspam'"
      ]
     },
     "execution_count": 3,
     "metadata": {},
     "output_type": "execute_result"
    }
   ],
   "source": [
    "# ii)\n",
    "'spam' * 3"
   ]
  },
  {
   "cell_type": "markdown",
   "metadata": {},
   "source": [
    "Q.8\n",
    "\n",
    "Variable names can not begin with a number."
   ]
  },
  {
   "cell_type": "markdown",
   "metadata": {},
   "source": [
    "Q.9\n",
    "\n",
    "The int(), float() and str() functions will evaluate to the integer,floating-point number and string versions of the value passed to them."
   ]
  },
  {
   "cell_type": "code",
   "execution_count": 5,
   "metadata": {},
   "outputs": [
    {
     "data": {
      "text/plain": [
       "'I have eaten 99 burritos.'"
      ]
     },
     "execution_count": 5,
     "metadata": {},
     "output_type": "execute_result"
    }
   ],
   "source": [
    "# Q.10 By applying quotes to the integer 99 we can solve this problem.\n",
    "\n",
    "'I have eaten ' + '99' + ' burritos.'"
   ]
  },
  {
   "cell_type": "code",
   "execution_count": null,
   "metadata": {},
   "outputs": [],
   "source": []
  }
 ],
 "metadata": {
  "kernelspec": {
   "display_name": "Python 3",
   "language": "python",
   "name": "python3"
  },
  "language_info": {
   "codemirror_mode": {
    "name": "ipython",
    "version": 3
   },
   "file_extension": ".py",
   "mimetype": "text/x-python",
   "name": "python",
   "nbconvert_exporter": "python",
   "pygments_lexer": "ipython3",
   "version": "3.8.5"
  }
 },
 "nbformat": 4,
 "nbformat_minor": 4
}
